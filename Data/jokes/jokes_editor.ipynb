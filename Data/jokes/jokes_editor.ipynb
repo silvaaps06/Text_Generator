{
 "cells": [
  {
   "cell_type": "code",
   "execution_count": 71,
   "metadata": {},
   "outputs": [],
   "source": [
    "import pandas as pd\n",
    "import re"
   ]
  },
  {
   "cell_type": "code",
   "execution_count": 72,
   "metadata": {},
   "outputs": [
    {
     "data": {
      "text/html": [
       "<div>\n",
       "<style scoped>\n",
       "    .dataframe tbody tr th:only-of-type {\n",
       "        vertical-align: middle;\n",
       "    }\n",
       "\n",
       "    .dataframe tbody tr th {\n",
       "        vertical-align: top;\n",
       "    }\n",
       "\n",
       "    .dataframe thead th {\n",
       "        text-align: right;\n",
       "    }\n",
       "</style>\n",
       "<table border=\"1\" class=\"dataframe\">\n",
       "  <thead>\n",
       "    <tr style=\"text-align: right;\">\n",
       "      <th></th>\n",
       "      <th>ID</th>\n",
       "      <th>Joke</th>\n",
       "    </tr>\n",
       "  </thead>\n",
       "  <tbody>\n",
       "    <tr>\n",
       "      <th>0</th>\n",
       "      <td>1</td>\n",
       "      <td>[me narrating a documentary about narrators] \"...</td>\n",
       "    </tr>\n",
       "    <tr>\n",
       "      <th>1</th>\n",
       "      <td>2</td>\n",
       "      <td>Telling my daughter garlic is good for you. Go...</td>\n",
       "    </tr>\n",
       "    <tr>\n",
       "      <th>2</th>\n",
       "      <td>3</td>\n",
       "      <td>I've been going through a really rough period ...</td>\n",
       "    </tr>\n",
       "    <tr>\n",
       "      <th>3</th>\n",
       "      <td>4</td>\n",
       "      <td>If I could have dinner with anyone, dead or al...</td>\n",
       "    </tr>\n",
       "    <tr>\n",
       "      <th>4</th>\n",
       "      <td>5</td>\n",
       "      <td>Two guys walk into a bar. The third guy ducks.</td>\n",
       "    </tr>\n",
       "    <tr>\n",
       "      <th>...</th>\n",
       "      <td>...</td>\n",
       "      <td>...</td>\n",
       "    </tr>\n",
       "    <tr>\n",
       "      <th>231652</th>\n",
       "      <td>231653</td>\n",
       "      <td>The Spicy Sausage by Delia Katessen</td>\n",
       "    </tr>\n",
       "    <tr>\n",
       "      <th>231653</th>\n",
       "      <td>231654</td>\n",
       "      <td>TIL That I Shouldn't have gone to law school, ...</td>\n",
       "    </tr>\n",
       "    <tr>\n",
       "      <th>231654</th>\n",
       "      <td>231655</td>\n",
       "      <td>What did the RAM stick say to the politician? ...</td>\n",
       "    </tr>\n",
       "    <tr>\n",
       "      <th>231655</th>\n",
       "      <td>231656</td>\n",
       "      <td>what do you call a play about victorian era me...</td>\n",
       "    </tr>\n",
       "    <tr>\n",
       "      <th>231656</th>\n",
       "      <td>231657</td>\n",
       "      <td>Calculus should be taught in every high school...</td>\n",
       "    </tr>\n",
       "  </tbody>\n",
       "</table>\n",
       "<p>231657 rows × 2 columns</p>\n",
       "</div>"
      ],
      "text/plain": [
       "            ID                                               Joke\n",
       "0            1  [me narrating a documentary about narrators] \"...\n",
       "1            2  Telling my daughter garlic is good for you. Go...\n",
       "2            3  I've been going through a really rough period ...\n",
       "3            4  If I could have dinner with anyone, dead or al...\n",
       "4            5     Two guys walk into a bar. The third guy ducks.\n",
       "...        ...                                                ...\n",
       "231652  231653                The Spicy Sausage by Delia Katessen\n",
       "231653  231654  TIL That I Shouldn't have gone to law school, ...\n",
       "231654  231655  What did the RAM stick say to the politician? ...\n",
       "231655  231656  what do you call a play about victorian era me...\n",
       "231656  231657  Calculus should be taught in every high school...\n",
       "\n",
       "[231657 rows x 2 columns]"
      ]
     },
     "execution_count": 72,
     "metadata": {},
     "output_type": "execute_result"
    }
   ],
   "source": [
    "jokes_df = pd.read_csv('shortjokes.csv')\n",
    "jokes_df"
   ]
  },
  {
   "cell_type": "code",
   "execution_count": 73,
   "metadata": {},
   "outputs": [
    {
     "data": {
      "text/plain": [
       "0         [me narrating a documentary about narrators] \"...\n",
       "1         Telling my daughter garlic is good for you. Go...\n",
       "2         I've been going through a really rough period ...\n",
       "3         If I could have dinner with anyone, dead or al...\n",
       "4            Two guys walk into a bar. The third guy ducks.\n",
       "                                ...                        \n",
       "231652                  The Spicy Sausage by Delia Katessen\n",
       "231653    TIL That I Shouldn't have gone to law school, ...\n",
       "231654    What did the RAM stick say to the politician? ...\n",
       "231655    what do you call a play about victorian era me...\n",
       "231656    Calculus should be taught in every high school...\n",
       "Name: Joke, Length: 231657, dtype: object"
      ]
     },
     "execution_count": 73,
     "metadata": {},
     "output_type": "execute_result"
    }
   ],
   "source": [
    "jokes_s = pd.Series(jokes_df['Joke'])\n",
    "jokes_s"
   ]
  },
  {
   "cell_type": "code",
   "execution_count": 77,
   "metadata": {},
   "outputs": [
    {
     "name": "stdout",
     "output_type": "stream",
     "text": [
      "[me narrating a documentary about narrators] \"I can't hear what they're saying cuz I'm talking\" \n",
      " Telling my daughter garlic is good for you. Good immune system and keeps pests away.Ticks, mosquitos, vampires... men. \n",
      " I've been going through a really rough period at work this week It's my own fault for swapping my tampax for sand paper. \n",
      " If I could have dinner with anyone, dead or alive... ...I would choose alive. -B.J. Novak- \n",
      " Two guys walk into a bar. The third guy ducks. \n",
      " Why can't Barbie\n"
     ]
    }
   ],
   "source": [
    "jokes = \" \\n \".join(list(jokes_s))\n",
    "str(jokes)\n",
    "print(jokes[:500])"
   ]
  },
  {
   "cell_type": "code",
   "execution_count": 79,
   "metadata": {},
   "outputs": [],
   "source": [
    "#open text file\n",
    "text_file = open(\"jokes.txt\", \"w\")\n",
    "\n",
    "#write string to file\n",
    "text_file.write(jokes)\n",
    "\n",
    "#close file\n",
    "text_file.close()"
   ]
  },
  {
   "cell_type": "code",
   "execution_count": null,
   "metadata": {},
   "outputs": [],
   "source": []
  }
 ],
 "metadata": {
  "interpreter": {
   "hash": "25e5be68547a581d8f01812af829697d501d092f95c6ea40be0663306c4e71b8"
  },
  "kernelspec": {
   "display_name": "Python 3.9.10 ('fproj')",
   "language": "python",
   "name": "python3"
  },
  "language_info": {
   "codemirror_mode": {
    "name": "ipython",
    "version": 3
   },
   "file_extension": ".py",
   "mimetype": "text/x-python",
   "name": "python",
   "nbconvert_exporter": "python",
   "pygments_lexer": "ipython3",
   "version": "3.9.10"
  },
  "orig_nbformat": 4
 },
 "nbformat": 4,
 "nbformat_minor": 2
}
