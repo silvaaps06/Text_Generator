{
 "cells": [
  {
   "cell_type": "code",
   "execution_count": 1,
   "metadata": {},
   "outputs": [],
   "source": [
    "import tensorflow as tf\n",
    "\n",
    "import numpy as np\n",
    "import os\n",
    "import time"
   ]
  },
  {
   "cell_type": "code",
   "execution_count": 2,
   "metadata": {},
   "outputs": [],
   "source": [
    "path_to_file = \"/Users/AnaPSilva/Documents/Ana/Ironhack/Bootcamp/Final_Project/Data/Rap/50cent.txt\""
   ]
  },
  {
   "cell_type": "code",
   "execution_count": 3,
   "metadata": {},
   "outputs": [
    {
     "name": "stdout",
     "output_type": "stream",
     "text": [
      "Length of text: 214884 characters\n"
     ]
    }
   ],
   "source": [
    "# Read, then decode for py2 compat.\n",
    "text = open(path_to_file, 'rb').read().decode(encoding='utf-8')\n",
    "# length of text is the number of characters in it\n",
    "print(f'Length of text: {len(text)} characters')"
   ]
  },
  {
   "cell_type": "code",
   "execution_count": 4,
   "metadata": {},
   "outputs": [
    {
     "name": "stdout",
     "output_type": "stream",
     "text": [
      "21 QUESTIONS\n",
      "[50 Cent]\n",
      "  New York City!\n",
      "  You are now rapping...with 50 Cent\n",
      "  You gotta love it...\n",
      "  I just wanna chill and twist a lot\n",
      "  Catch suns in my 7 45\n",
      "  You drive me crazy shorty I\n",
      "  Need to see you and feel you next to me\n",
      "  I prov\n"
     ]
    }
   ],
   "source": [
    "# Take a look at the first 250 characters in text\n",
    "print(text[:250])"
   ]
  },
  {
   "cell_type": "code",
   "execution_count": 5,
   "metadata": {},
   "outputs": [
    {
     "name": "stdout",
     "output_type": "stream",
     "text": [
      "81 unique characters\n"
     ]
    }
   ],
   "source": [
    "# The unique characters in the file\n",
    "vocab = sorted(set(text))\n",
    "print(f'{len(vocab)} unique characters')"
   ]
  },
  {
   "cell_type": "code",
   "execution_count": 6,
   "metadata": {},
   "outputs": [
    {
     "name": "stderr",
     "output_type": "stream",
     "text": [
      "2022-03-13 02:13:58.240783: I tensorflow/core/platform/cpu_feature_guard.cc:151] This TensorFlow binary is optimized with oneAPI Deep Neural Network Library (oneDNN) to use the following CPU instructions in performance-critical operations:  SSE4.1 SSE4.2 AVX AVX2 FMA\n",
      "To enable them in other operations, rebuild TensorFlow with the appropriate compiler flags.\n"
     ]
    },
    {
     "data": {
      "text/plain": [
       "<tf.RaggedTensor [[b'a', b'b', b'c', b'd', b'e', b'f', b'g'], [b'x', b'y', b'z']]>"
      ]
     },
     "execution_count": 6,
     "metadata": {},
     "output_type": "execute_result"
    }
   ],
   "source": [
    "## Before training, you need to convert the strings to a numerical representation.\n",
    "## convert each character into a numeric ID. \n",
    "## It just needs the text to be split into tokens first.\n",
    "example_texts = ['abcdefg', 'xyz']\n",
    "\n",
    "chars = tf.strings.unicode_split(example_texts, input_encoding='UTF-8')\n",
    "chars"
   ]
  },
  {
   "cell_type": "code",
   "execution_count": 7,
   "metadata": {},
   "outputs": [
    {
     "data": {
      "text/plain": [
       "<tf.RaggedTensor [[56, 57, 58, 59, 60, 61, 62], [79, 80, 81]]>"
      ]
     },
     "execution_count": 7,
     "metadata": {},
     "output_type": "execute_result"
    }
   ],
   "source": [
    "## from tokens to character IDs\n",
    "ids_from_chars = tf.keras.layers.StringLookup(\n",
    "    vocabulary=list(vocab), mask_token=None)\n",
    "ids = ids_from_chars(chars)\n",
    "ids"
   ]
  },
  {
   "cell_type": "code",
   "execution_count": 8,
   "metadata": {},
   "outputs": [],
   "source": [
    "## it will also be important to invert this representation and \n",
    "## recover human-readable strings from it.\n",
    "chars_from_ids = tf.keras.layers.StringLookup(\n",
    "    vocabulary=ids_from_chars.get_vocabulary(), invert=True, mask_token=None)"
   ]
  },
  {
   "cell_type": "code",
   "execution_count": 9,
   "metadata": {},
   "outputs": [
    {
     "data": {
      "text/plain": [
       "<tf.RaggedTensor [[b'a', b'b', b'c', b'd', b'e', b'f', b'g'], [b'x', b'y', b'z']]>"
      ]
     },
     "execution_count": 9,
     "metadata": {},
     "output_type": "execute_result"
    }
   ],
   "source": [
    "chars = chars_from_ids(ids)\n",
    "chars"
   ]
  },
  {
   "cell_type": "code",
   "execution_count": 10,
   "metadata": {},
   "outputs": [
    {
     "data": {
      "text/plain": [
       "array([b'abcdefg', b'xyz'], dtype=object)"
      ]
     },
     "execution_count": 10,
     "metadata": {},
     "output_type": "execute_result"
    }
   ],
   "source": [
    "## join the characters back into strings.\n",
    "tf.strings.reduce_join(chars, axis=-1).numpy()"
   ]
  },
  {
   "cell_type": "code",
   "execution_count": 11,
   "metadata": {},
   "outputs": [],
   "source": [
    "def text_from_ids(ids):\n",
    "  \"\"\"join the characters back into strings\"\"\"\n",
    "  return tf.strings.reduce_join(chars_from_ids(ids), axis=-1)"
   ]
  },
  {
   "cell_type": "markdown",
   "metadata": {},
   "source": [
    "#### Create training examples and targets"
   ]
  },
  {
   "cell_type": "code",
   "execution_count": 12,
   "metadata": {},
   "outputs": [
    {
     "data": {
      "text/plain": [
       "<tf.Tensor: shape=(214884,), dtype=int64, numpy=array([17, 16,  4, ...,  3,  1,  2])>"
      ]
     },
     "execution_count": 12,
     "metadata": {},
     "output_type": "execute_result"
    }
   ],
   "source": [
    "## convert the text vector into a stream of character indices.\n",
    "all_ids = ids_from_chars(tf.strings.unicode_split(text, 'UTF-8'))\n",
    "all_ids"
   ]
  },
  {
   "cell_type": "code",
   "execution_count": 13,
   "metadata": {},
   "outputs": [
    {
     "name": "stdout",
     "output_type": "stream",
     "text": [
      "2\n",
      "1\n",
      " \n",
      "Q\n",
      "U\n",
      "E\n",
      "S\n",
      "T\n",
      "I\n",
      "O\n"
     ]
    }
   ],
   "source": [
    "ids_dataset = tf.data.Dataset.from_tensor_slices(all_ids)\n",
    "for ids in ids_dataset.take(10):\n",
    "    print(chars_from_ids(ids).numpy().decode('utf-8'))"
   ]
  },
  {
   "cell_type": "code",
   "execution_count": 14,
   "metadata": {},
   "outputs": [
    {
     "data": {
      "text/plain": [
       "2127"
      ]
     },
     "execution_count": 14,
     "metadata": {},
     "output_type": "execute_result"
    }
   ],
   "source": [
    "seq_length = 100\n",
    "examples_per_epoch = len(text)//(seq_length+1)\n",
    "examples_per_epoch"
   ]
  },
  {
   "cell_type": "code",
   "execution_count": 15,
   "metadata": {},
   "outputs": [
    {
     "name": "stdout",
     "output_type": "stream",
     "text": [
      "tf.Tensor(\n",
      "[b'2' b'1' b' ' b'Q' b'U' b'E' b'S' b'T' b'I' b'O' b'N' b'S' b'\\r' b'\\n'\n",
      " b'[' b'5' b'0' b' ' b'C' b'e' b'n' b't' b']' b'\\r' b'\\n' b' ' b' ' b'N'\n",
      " b'e' b'w' b' ' b'Y' b'o' b'r' b'k' b' ' b'C' b'i' b't' b'y' b'!' b'\\r'\n",
      " b'\\n' b' ' b' ' b'Y' b'o' b'u' b' ' b'a' b'r' b'e' b' ' b'n' b'o' b'w'\n",
      " b' ' b'r' b'a' b'p' b'p' b'i' b'n' b'g' b'.' b'.' b'.' b'w' b'i' b't'\n",
      " b'h' b' ' b'5' b'0' b' ' b'C' b'e' b'n' b't' b'\\r' b'\\n' b' ' b' ' b'Y'\n",
      " b'o' b'u' b' ' b'g' b'o' b't' b't' b'a' b' ' b'l' b'o' b'v' b'e' b' '\n",
      " b'i' b't' b'.'], shape=(101,), dtype=string)\n"
     ]
    }
   ],
   "source": [
    "## The batch method lets you easily convert \n",
    "## these individual characters to sequences of the desired size.\n",
    "sequences = ids_dataset.batch(seq_length+1, drop_remainder=True)\n",
    "\n",
    "for seq in sequences.take(1):\n",
    "  print(chars_from_ids(seq))"
   ]
  },
  {
   "cell_type": "code",
   "execution_count": 16,
   "metadata": {},
   "outputs": [
    {
     "name": "stdout",
     "output_type": "stream",
     "text": [
      "b'21 QUESTIONS\\r\\n[50 Cent]\\r\\n  New York City!\\r\\n  You are now rapping...with 50 Cent\\r\\n  You gotta love it.'\n",
      "b'..\\r\\n  I just wanna chill and twist a lot\\r\\n  Catch suns in my 7 45\\r\\n  You drive me crazy shorty I\\r\\n  N'\n",
      "b'eed to see you and feel you next to me\\r\\n  I provide everything you need and I\\r\\n  Like your smile I do'\n",
      "b\"n''t wanna see you cry\\r\\n  Got some questions that I got to ask and I\\r\\n  Hope you can come up with the\"\n",
      "b\" answers babe\\r\\n  [Nate Dogg]\\r\\n  Girl...It''s easy to   love me now\\r\\n  Would you love me if   I was do\"\n"
     ]
    }
   ],
   "source": [
    "## It's easier to see what this is doing if you join the \n",
    "## tokens back into strings\n",
    "\n",
    "for seq in sequences.take(5):\n",
    "  print(text_from_ids(seq).numpy())"
   ]
  },
  {
   "cell_type": "code",
   "execution_count": 17,
   "metadata": {},
   "outputs": [],
   "source": [
    "def split_input_target(sequence):\n",
    "    \"\"\"takes a sequence as input, duplicates, \n",
    "    and shifts it to align the input and label for each timestep\"\"\"\n",
    "    input_text = sequence[:-1]\n",
    "    target_text = sequence[1:]\n",
    "    return input_text, target_text"
   ]
  },
  {
   "cell_type": "code",
   "execution_count": 18,
   "metadata": {},
   "outputs": [
    {
     "name": "stdout",
     "output_type": "stream",
     "text": [
      "Input : b'21 QUESTIONS\\r\\n[50 Cent]\\r\\n  New York City!\\r\\n  You are now rapping...with 50 Cent\\r\\n  You gotta love it'\n",
      "Target: b'1 QUESTIONS\\r\\n[50 Cent]\\r\\n  New York City!\\r\\n  You are now rapping...with 50 Cent\\r\\n  You gotta love it.'\n"
     ]
    }
   ],
   "source": [
    "dataset = sequences.map(split_input_target)\n",
    "for input_example, target_example in dataset.take(1):\n",
    "    print(\"Input :\", text_from_ids(input_example).numpy())\n",
    "    print(\"Target:\", text_from_ids(target_example).numpy())"
   ]
  },
  {
   "cell_type": "markdown",
   "metadata": {},
   "source": [
    "#### Create training batches"
   ]
  },
  {
   "cell_type": "code",
   "execution_count": 19,
   "metadata": {},
   "outputs": [
    {
     "data": {
      "text/plain": [
       "<PrefetchDataset shapes: ((64, 100), (64, 100)), types: (tf.int64, tf.int64)>"
      ]
     },
     "execution_count": 19,
     "metadata": {},
     "output_type": "execute_result"
    }
   ],
   "source": [
    "# Batch size\n",
    "BATCH_SIZE = 64\n",
    "\n",
    "# Buffer size to shuffle the dataset\n",
    "# (TF data is designed to work with possibly infinite sequences,\n",
    "# so it doesn't attempt to shuffle the entire sequence in memory. Instead,\n",
    "# it maintains a buffer in which it shuffles elements).\n",
    "BUFFER_SIZE = 10000\n",
    "\n",
    "dataset = (\n",
    "    dataset\n",
    "    .shuffle(BUFFER_SIZE)\n",
    "    .batch(BATCH_SIZE, drop_remainder=True)\n",
    "    .prefetch(tf.data.experimental.AUTOTUNE))\n",
    "\n",
    "dataset"
   ]
  },
  {
   "cell_type": "markdown",
   "metadata": {},
   "source": [
    "#### Build The Model\n",
    "\n",
    "- **tf.keras.layers.Embedding:** The input layer. A trainable lookup table that will map each character-ID to a vector with embedding_dim dimensions;\n",
    "- **tf.keras.layers.GRU:** A type of RNN with size units=rnn_units (You can also use an LSTM layer here.)\n",
    "- **tf.keras.layers.Dense:** The output layer, with vocab_size outputs. It outputs one logit for each character in the vocabulary. These are the log-likelihood of each character according to the model."
   ]
  },
  {
   "cell_type": "code",
   "execution_count": 20,
   "metadata": {},
   "outputs": [
    {
     "data": {
      "text/plain": [
       "81"
      ]
     },
     "metadata": {},
     "output_type": "display_data"
    }
   ],
   "source": [
    "# Length of the vocabulary in chars\n",
    "vocab_size = len(vocab)\n",
    "display(vocab_size)\n",
    "# The embedding dimension\n",
    "embedding_dim = 256\n",
    "\n",
    "# Number of RNN units\n",
    "rnn_units = 1024"
   ]
  },
  {
   "cell_type": "code",
   "execution_count": 21,
   "metadata": {},
   "outputs": [],
   "source": [
    "class MyModel(tf.keras.Model):\n",
    "  def __init__(self, vocab_size, embedding_dim, rnn_units):\n",
    "    super().__init__(self)\n",
    "    self.embedding = tf.keras.layers.Embedding(vocab_size, embedding_dim)\n",
    "    self.gru = tf.keras.layers.GRU(rnn_units,\n",
    "                                   return_sequences=True,\n",
    "                                   return_state=True)\n",
    "    self.dense = tf.keras.layers.Dense(vocab_size)\n",
    "\n",
    "  def call(self, inputs, states=None, return_state=False, training=False):\n",
    "    x = inputs\n",
    "    x = self.embedding(x, training=training)\n",
    "    if states is None:\n",
    "      states = self.gru.get_initial_state(x)\n",
    "    x, states = self.gru(x, initial_state=states, training=training)\n",
    "    x = self.dense(x, training=training)\n",
    "\n",
    "    if return_state:\n",
    "      return x, states\n",
    "    else:\n",
    "      return x"
   ]
  },
  {
   "cell_type": "code",
   "execution_count": 22,
   "metadata": {},
   "outputs": [],
   "source": [
    "model = MyModel(\n",
    "    # Making sure the vocabulary size matches the `StringLookup` layers.\n",
    "    vocab_size=len(ids_from_chars.get_vocabulary()),\n",
    "    embedding_dim=embedding_dim,\n",
    "    rnn_units=rnn_units)"
   ]
  },
  {
   "cell_type": "markdown",
   "metadata": {},
   "source": [
    "#### Try the model"
   ]
  },
  {
   "cell_type": "code",
   "execution_count": 23,
   "metadata": {},
   "outputs": [
    {
     "name": "stdout",
     "output_type": "stream",
     "text": [
      "(64, 100, 82) # (batch_size, sequence_length, vocab_size)\n"
     ]
    }
   ],
   "source": [
    "for input_example_batch, target_example_batch in dataset.take(1):\n",
    "    example_batch_predictions = model(input_example_batch)\n",
    "    print(example_batch_predictions.shape, \"# (batch_size, sequence_length, vocab_size)\")"
   ]
  },
  {
   "cell_type": "code",
   "execution_count": 24,
   "metadata": {},
   "outputs": [
    {
     "name": "stdout",
     "output_type": "stream",
     "text": [
      "Model: \"my_model\"\n",
      "_________________________________________________________________\n",
      " Layer (type)                Output Shape              Param #   \n",
      "=================================================================\n",
      " embedding (Embedding)       multiple                  20992     \n",
      "                                                                 \n",
      " gru (GRU)                   multiple                  3938304   \n",
      "                                                                 \n",
      " dense (Dense)               multiple                  84050     \n",
      "                                                                 \n",
      "=================================================================\n",
      "Total params: 4,043,346\n",
      "Trainable params: 4,043,346\n",
      "Non-trainable params: 0\n",
      "_________________________________________________________________\n"
     ]
    }
   ],
   "source": [
    "model.summary()"
   ]
  },
  {
   "cell_type": "code",
   "execution_count": 25,
   "metadata": {},
   "outputs": [
    {
     "data": {
      "text/plain": [
       "array([17, 49, 63, 25, 48, 26, 53,  4, 73, 65, 25, 27, 35, 43, 81, 16, 73,\n",
       "       75,  1, 31, 42, 48, 48, 74, 37, 79, 16, 52, 20, 60, 19,  1, 71, 33,\n",
       "       62, 64, 60, 64, 16, 65, 58, 46,  6,  8, 35, 16, 51, 60, 29, 18, 52,\n",
       "       40, 74, 77, 12, 80, 44, 68, 32, 30, 52, 75, 47, 78,  7,  7, 59, 33,\n",
       "       45, 76, 33, 16, 12, 41, 55, 39, 60, 48, 27, 57, 47, 72, 50, 43, 52,\n",
       "       63, 21, 14, 54, 35, 48, 61,  6,  4, 68,  9,  7, 23, 35, 38])"
      ]
     },
     "execution_count": 25,
     "metadata": {},
     "output_type": "execute_result"
    }
   ],
   "source": [
    "sampled_indices = tf.random.categorical(example_batch_predictions[0], num_samples=1)\n",
    "sampled_indices = tf.squeeze(sampled_indices, axis=-1).numpy()\n",
    "\n",
    "## This gives us, at each timestep, a prediction of the next character index\n",
    "sampled_indices"
   ]
  },
  {
   "cell_type": "code",
   "execution_count": 26,
   "metadata": {},
   "outputs": [
    {
     "name": "stdout",
     "output_type": "stream",
     "text": [
      "Input:\n",
      " b\"hat we living in\\r\\n  Repeat 1 (2x)\\r\\n\\r\\n  [50 Cent]\\r\\n  Uh huh come on\\r\\n  Don''t nobody smile when I com\"\n",
      "\n",
      "Next Char Predictions:\n",
      " b\"2Vh:U;Z rj:?HPz1rt\\nDOUUsJx1Y5e4\\npFgiei1jcS$'H1XeB3YMsv,yQmECYtTw&&dFRuF1,N]LeU?bTqWPYh6/[HUf$ m(&8HK\"\n"
     ]
    }
   ],
   "source": [
    "## Decode these to see the text predicted by this untrained model\n",
    "print(\"Input:\\n\", text_from_ids(input_example_batch[0]).numpy())\n",
    "print()\n",
    "print(\"Next Char Predictions:\\n\", text_from_ids(sampled_indices).numpy())"
   ]
  },
  {
   "cell_type": "markdown",
   "metadata": {},
   "source": [
    "#### Train the model\n",
    "- At this point the problem can be treated as a standard classification problem. Given the previous RNN state, and the input this time step, predict the class of the next character."
   ]
  },
  {
   "cell_type": "code",
   "execution_count": 27,
   "metadata": {},
   "outputs": [],
   "source": [
    "loss = tf.losses.SparseCategoricalCrossentropy(from_logits=True)"
   ]
  },
  {
   "cell_type": "code",
   "execution_count": 28,
   "metadata": {},
   "outputs": [
    {
     "name": "stdout",
     "output_type": "stream",
     "text": [
      "Prediction shape:  (64, 100, 82)  # (batch_size, sequence_length, vocab_size)\n",
      "Mean loss:         tf.Tensor(4.4065986, shape=(), dtype=float32)\n"
     ]
    }
   ],
   "source": [
    "example_batch_mean_loss = loss(target_example_batch, example_batch_predictions)\n",
    "print(\"Prediction shape: \", example_batch_predictions.shape, \" # (batch_size, sequence_length, vocab_size)\")\n",
    "print(\"Mean loss:        \", example_batch_mean_loss)"
   ]
  },
  {
   "cell_type": "code",
   "execution_count": 29,
   "metadata": {},
   "outputs": [
    {
     "data": {
      "text/plain": [
       "81.990105"
      ]
     },
     "execution_count": 29,
     "metadata": {},
     "output_type": "execute_result"
    }
   ],
   "source": [
    "tf.exp(example_batch_mean_loss).numpy()"
   ]
  },
  {
   "cell_type": "code",
   "execution_count": 30,
   "metadata": {},
   "outputs": [],
   "source": [
    "## training procedure using the tf.keras.Model.compile method. \n",
    "## Use tf.keras.optimizers.Adam with default arguments and the loss function.\n",
    "model.compile(optimizer='adam', loss=loss)"
   ]
  },
  {
   "cell_type": "code",
   "execution_count": 31,
   "metadata": {},
   "outputs": [],
   "source": [
    "# Directory where the checkpoints will be saved\n",
    "checkpoint_dir = './training_checkpoints'\n",
    "# Name of the checkpoint files\n",
    "checkpoint_prefix = os.path.join(checkpoint_dir, \"ckpt_rap_50cent_{epoch}\")\n",
    "\n",
    "checkpoint_callback = tf.keras.callbacks.ModelCheckpoint(\n",
    "    filepath=checkpoint_prefix,\n",
    "    save_weights_only=True)"
   ]
  },
  {
   "cell_type": "code",
   "execution_count": 32,
   "metadata": {},
   "outputs": [
    {
     "name": "stdout",
     "output_type": "stream",
     "text": [
      "Epoch 1/200\n",
      "33/33 [==============================] - 128s 4s/step - loss: 3.8506\n",
      "Epoch 2/200\n",
      "33/33 [==============================] - 135s 4s/step - loss: 2.8871\n",
      "Epoch 3/200\n",
      "33/33 [==============================] - 121s 4s/step - loss: 2.4598\n",
      "Epoch 4/200\n",
      "33/33 [==============================] - 109s 3s/step - loss: 2.2783\n",
      "Epoch 5/200\n",
      "33/33 [==============================] - 108s 3s/step - loss: 2.1717\n",
      "Epoch 6/200\n",
      "33/33 [==============================] - 108s 3s/step - loss: 2.0750\n",
      "Epoch 7/200\n",
      "33/33 [==============================] - 109s 3s/step - loss: 1.9838\n",
      "Epoch 8/200\n",
      "33/33 [==============================] - 106s 3s/step - loss: 1.8993\n",
      "Epoch 9/200\n",
      "33/33 [==============================] - 107s 3s/step - loss: 1.8244\n",
      "Epoch 10/200\n",
      "33/33 [==============================] - 107s 3s/step - loss: 1.7529\n",
      "Epoch 11/200\n",
      "33/33 [==============================] - 120s 4s/step - loss: 1.6917\n",
      "Epoch 12/200\n",
      "33/33 [==============================] - 102s 3s/step - loss: 1.6372\n",
      "Epoch 13/200\n",
      "33/33 [==============================] - 107s 3s/step - loss: 1.5834\n",
      "Epoch 14/200\n",
      "33/33 [==============================] - 110s 3s/step - loss: 1.5330\n",
      "Epoch 15/200\n",
      "33/33 [==============================] - 106s 3s/step - loss: 1.4842\n",
      "Epoch 16/200\n",
      "33/33 [==============================] - 105s 3s/step - loss: 1.4353\n",
      "Epoch 17/200\n",
      "33/33 [==============================] - 102s 3s/step - loss: 1.3888\n",
      "Epoch 18/200\n",
      "33/33 [==============================] - 105s 3s/step - loss: 1.3426\n",
      "Epoch 19/200\n",
      "33/33 [==============================] - 102s 3s/step - loss: 1.2960\n",
      "Epoch 20/200\n",
      "33/33 [==============================] - 104s 3s/step - loss: 1.2474\n",
      "Epoch 21/200\n",
      "33/33 [==============================] - 105s 3s/step - loss: 1.1946\n",
      "Epoch 22/200\n",
      "33/33 [==============================] - 101s 3s/step - loss: 1.1407\n",
      "Epoch 23/200\n",
      "33/33 [==============================] - 103s 3s/step - loss: 1.0865\n",
      "Epoch 24/200\n",
      "33/33 [==============================] - 102s 3s/step - loss: 1.0267\n",
      "Epoch 25/200\n",
      "33/33 [==============================] - 100s 3s/step - loss: 0.9646\n",
      "Epoch 26/200\n",
      "33/33 [==============================] - 105s 3s/step - loss: 0.9011\n",
      "Epoch 27/200\n",
      "33/33 [==============================] - 105s 3s/step - loss: 0.8314\n",
      "Epoch 28/200\n",
      "33/33 [==============================] - 110s 3s/step - loss: 0.7614\n",
      "Epoch 29/200\n",
      "33/33 [==============================] - 105s 3s/step - loss: 0.6856\n",
      "Epoch 30/200\n",
      "33/33 [==============================] - 104s 3s/step - loss: 0.6135\n",
      "Epoch 31/200\n",
      "33/33 [==============================] - 105s 3s/step - loss: 0.5435\n",
      "Epoch 32/200\n",
      "33/33 [==============================] - 107s 3s/step - loss: 0.4745\n",
      "Epoch 33/200\n",
      "33/33 [==============================] - 104s 3s/step - loss: 0.4100\n",
      "Epoch 34/200\n",
      "33/33 [==============================] - 105s 3s/step - loss: 0.3529\n",
      "Epoch 35/200\n",
      "33/33 [==============================] - 105s 3s/step - loss: 0.3019\n",
      "Epoch 36/200\n",
      "33/33 [==============================] - 104s 3s/step - loss: 0.2558\n",
      "Epoch 37/200\n",
      "33/33 [==============================] - 106s 3s/step - loss: 0.2174\n",
      "Epoch 38/200\n",
      "33/33 [==============================] - 102s 3s/step - loss: 0.1896\n",
      "Epoch 39/200\n",
      "33/33 [==============================] - 98s 3s/step - loss: 0.1645\n",
      "Epoch 40/200\n",
      "33/33 [==============================] - 105s 3s/step - loss: 0.1450\n",
      "Epoch 41/200\n",
      "33/33 [==============================] - 105s 3s/step - loss: 0.1284\n",
      "Epoch 42/200\n",
      "33/33 [==============================] - 106s 3s/step - loss: 0.1154\n",
      "Epoch 43/200\n",
      "33/33 [==============================] - 97s 3s/step - loss: 0.1053\n",
      "Epoch 44/200\n",
      "33/33 [==============================] - 104s 3s/step - loss: 0.0974\n",
      "Epoch 45/200\n",
      "33/33 [==============================] - 105s 3s/step - loss: 0.0917\n",
      "Epoch 46/200\n",
      "33/33 [==============================] - 104s 3s/step - loss: 0.0873\n",
      "Epoch 47/200\n",
      "33/33 [==============================] - 98s 3s/step - loss: 0.0842\n",
      "Epoch 48/200\n",
      "33/33 [==============================] - 104s 3s/step - loss: 0.0818\n",
      "Epoch 49/200\n",
      "33/33 [==============================] - 98s 3s/step - loss: 0.0794\n",
      "Epoch 50/200\n",
      "33/33 [==============================] - 101s 3s/step - loss: 0.0780\n",
      "Epoch 51/200\n",
      "33/33 [==============================] - 107s 3s/step - loss: 0.0761\n",
      "Epoch 52/200\n",
      "33/33 [==============================] - 104s 3s/step - loss: 0.0746\n",
      "Epoch 53/200\n",
      "33/33 [==============================] - 100s 3s/step - loss: 0.0729\n",
      "Epoch 54/200\n",
      "33/33 [==============================] - 108s 3s/step - loss: 0.0716\n",
      "Epoch 55/200\n",
      "33/33 [==============================] - 97s 3s/step - loss: 0.0706\n",
      "Epoch 56/200\n",
      "33/33 [==============================] - 105s 3s/step - loss: 0.0702\n",
      "Epoch 57/200\n",
      "33/33 [==============================] - 99s 3s/step - loss: 0.0695\n",
      "Epoch 58/200\n",
      "33/33 [==============================] - 105s 3s/step - loss: 0.0689\n",
      "Epoch 59/200\n",
      "33/33 [==============================] - 95s 3s/step - loss: 0.0687\n",
      "Epoch 60/200\n",
      "33/33 [==============================] - 100s 3s/step - loss: 0.0685\n",
      "Epoch 61/200\n",
      "33/33 [==============================] - 107s 3s/step - loss: 0.0682\n",
      "Epoch 62/200\n",
      "33/33 [==============================] - 120s 4s/step - loss: 0.0674\n",
      "Epoch 63/200\n",
      "33/33 [==============================] - 113s 3s/step - loss: 0.0672\n",
      "Epoch 64/200\n",
      "33/33 [==============================] - 105s 3s/step - loss: 0.0669\n",
      "Epoch 65/200\n",
      "33/33 [==============================] - ETA: 0s - loss: 0.0677"
     ]
    },
    {
     "name": "stderr",
     "output_type": "stream",
     "text": [
      "2022-03-13 04:24:40.929190: W tensorflow/core/framework/op_kernel.cc:1745] OP_REQUIRES failed at save_restore_v2_ops.cc:136 : RESOURCE_EXHAUSTED: training_checkpoints/ckpt_rap_50cent_65_temp/part-00000-of-00001.data-00000-of-00001.tempstate13932531981855091814; No space left on device\n"
     ]
    },
    {
     "ename": "ResourceExhaustedError",
     "evalue": "training_checkpoints/ckpt_rap_50cent_65_temp/part-00000-of-00001.data-00000-of-00001.tempstate13932531981855091814; No space left on device [Op:SaveV2]",
     "output_type": "error",
     "traceback": [
      "\u001b[0;31m---------------------------------------------------------------------------\u001b[0m",
      "\u001b[0;31mResourceExhaustedError\u001b[0m                    Traceback (most recent call last)",
      "\u001b[0;32m/var/folders/6p/f9_7t3yd7_5bhfz8c52xyw2h0000gn/T/ipykernel_75389/144123596.py\u001b[0m in \u001b[0;36m<module>\u001b[0;34m\u001b[0m\n\u001b[1;32m      1\u001b[0m \u001b[0mEPOCHS\u001b[0m \u001b[0;34m=\u001b[0m \u001b[0;36m200\u001b[0m\u001b[0;34m\u001b[0m\u001b[0;34m\u001b[0m\u001b[0m\n\u001b[0;32m----> 2\u001b[0;31m \u001b[0mhistory\u001b[0m \u001b[0;34m=\u001b[0m \u001b[0mmodel\u001b[0m\u001b[0;34m.\u001b[0m\u001b[0mfit\u001b[0m\u001b[0;34m(\u001b[0m\u001b[0mdataset\u001b[0m\u001b[0;34m,\u001b[0m \u001b[0mepochs\u001b[0m\u001b[0;34m=\u001b[0m\u001b[0mEPOCHS\u001b[0m\u001b[0;34m,\u001b[0m \u001b[0mcallbacks\u001b[0m\u001b[0;34m=\u001b[0m\u001b[0;34m[\u001b[0m\u001b[0mcheckpoint_callback\u001b[0m\u001b[0;34m]\u001b[0m\u001b[0;34m)\u001b[0m\u001b[0;34m\u001b[0m\u001b[0;34m\u001b[0m\u001b[0m\n\u001b[0m",
      "\u001b[0;32m/opt/anaconda3/envs/fproj/lib/python3.9/site-packages/keras/utils/traceback_utils.py\u001b[0m in \u001b[0;36merror_handler\u001b[0;34m(*args, **kwargs)\u001b[0m\n\u001b[1;32m     65\u001b[0m     \u001b[0;32mexcept\u001b[0m \u001b[0mException\u001b[0m \u001b[0;32mas\u001b[0m \u001b[0me\u001b[0m\u001b[0;34m:\u001b[0m  \u001b[0;31m# pylint: disable=broad-except\u001b[0m\u001b[0;34m\u001b[0m\u001b[0;34m\u001b[0m\u001b[0m\n\u001b[1;32m     66\u001b[0m       \u001b[0mfiltered_tb\u001b[0m \u001b[0;34m=\u001b[0m \u001b[0m_process_traceback_frames\u001b[0m\u001b[0;34m(\u001b[0m\u001b[0me\u001b[0m\u001b[0;34m.\u001b[0m\u001b[0m__traceback__\u001b[0m\u001b[0;34m)\u001b[0m\u001b[0;34m\u001b[0m\u001b[0;34m\u001b[0m\u001b[0m\n\u001b[0;32m---> 67\u001b[0;31m       \u001b[0;32mraise\u001b[0m \u001b[0me\u001b[0m\u001b[0;34m.\u001b[0m\u001b[0mwith_traceback\u001b[0m\u001b[0;34m(\u001b[0m\u001b[0mfiltered_tb\u001b[0m\u001b[0;34m)\u001b[0m \u001b[0;32mfrom\u001b[0m \u001b[0;32mNone\u001b[0m\u001b[0;34m\u001b[0m\u001b[0;34m\u001b[0m\u001b[0m\n\u001b[0m\u001b[1;32m     68\u001b[0m     \u001b[0;32mfinally\u001b[0m\u001b[0;34m:\u001b[0m\u001b[0;34m\u001b[0m\u001b[0;34m\u001b[0m\u001b[0m\n\u001b[1;32m     69\u001b[0m       \u001b[0;32mdel\u001b[0m \u001b[0mfiltered_tb\u001b[0m\u001b[0;34m\u001b[0m\u001b[0;34m\u001b[0m\u001b[0m\n",
      "\u001b[0;32m/opt/anaconda3/envs/fproj/lib/python3.9/site-packages/tensorflow/python/eager/execute.py\u001b[0m in \u001b[0;36mquick_execute\u001b[0;34m(op_name, num_outputs, inputs, attrs, ctx, name)\u001b[0m\n\u001b[1;32m     56\u001b[0m   \u001b[0;32mtry\u001b[0m\u001b[0;34m:\u001b[0m\u001b[0;34m\u001b[0m\u001b[0;34m\u001b[0m\u001b[0m\n\u001b[1;32m     57\u001b[0m     \u001b[0mctx\u001b[0m\u001b[0;34m.\u001b[0m\u001b[0mensure_initialized\u001b[0m\u001b[0;34m(\u001b[0m\u001b[0;34m)\u001b[0m\u001b[0;34m\u001b[0m\u001b[0;34m\u001b[0m\u001b[0m\n\u001b[0;32m---> 58\u001b[0;31m     tensors = pywrap_tfe.TFE_Py_Execute(ctx._handle, device_name, op_name,\n\u001b[0m\u001b[1;32m     59\u001b[0m                                         inputs, attrs, num_outputs)\n\u001b[1;32m     60\u001b[0m   \u001b[0;32mexcept\u001b[0m \u001b[0mcore\u001b[0m\u001b[0;34m.\u001b[0m\u001b[0m_NotOkStatusException\u001b[0m \u001b[0;32mas\u001b[0m \u001b[0me\u001b[0m\u001b[0;34m:\u001b[0m\u001b[0;34m\u001b[0m\u001b[0;34m\u001b[0m\u001b[0m\n",
      "\u001b[0;31mResourceExhaustedError\u001b[0m: training_checkpoints/ckpt_rap_50cent_65_temp/part-00000-of-00001.data-00000-of-00001.tempstate13932531981855091814; No space left on device [Op:SaveV2]"
     ]
    }
   ],
   "source": [
    "EPOCHS = 200\n",
    "history = model.fit(dataset, epochs=EPOCHS, callbacks=[checkpoint_callback])"
   ]
  },
  {
   "cell_type": "code",
   "execution_count": null,
   "metadata": {},
   "outputs": [],
   "source": []
  },
  {
   "cell_type": "code",
   "execution_count": 33,
   "metadata": {},
   "outputs": [],
   "source": [
    "class OneStep(tf.keras.Model):\n",
    "  def __init__(self, model, chars_from_ids, ids_from_chars, temperature=1.0):\n",
    "    super().__init__()\n",
    "    self.temperature = temperature\n",
    "    self.model = model\n",
    "    self.chars_from_ids = chars_from_ids\n",
    "    self.ids_from_chars = ids_from_chars\n",
    "\n",
    "    # Create a mask to prevent \"[UNK]\" from being generated.\n",
    "    skip_ids = self.ids_from_chars(['[UNK]'])[:, None]\n",
    "    sparse_mask = tf.SparseTensor(\n",
    "        # Put a -inf at each bad index.\n",
    "        values=[-float('inf')]*len(skip_ids),\n",
    "        indices=skip_ids,\n",
    "        # Match the shape to the vocabulary\n",
    "        dense_shape=[len(ids_from_chars.get_vocabulary())])\n",
    "    self.prediction_mask = tf.sparse.to_dense(sparse_mask)\n",
    "\n",
    "  @tf.function\n",
    "  def generate_one_step(self, inputs, states=None):\n",
    "    # Convert strings to token IDs.\n",
    "    input_chars = tf.strings.unicode_split(inputs, 'UTF-8')\n",
    "    input_ids = self.ids_from_chars(input_chars).to_tensor()\n",
    "\n",
    "    # Run the model.\n",
    "    # predicted_logits.shape is [batch, char, next_char_logits]\n",
    "    predicted_logits, states = self.model(inputs=input_ids, states=states,\n",
    "                                          return_state=True)\n",
    "    # Only use the last prediction.\n",
    "    predicted_logits = predicted_logits[:, -1, :]\n",
    "    predicted_logits = predicted_logits/self.temperature\n",
    "    # Apply the prediction mask: prevent \"[UNK]\" from being generated.\n",
    "    predicted_logits = predicted_logits + self.prediction_mask\n",
    "\n",
    "    # Sample the output logits to generate token IDs.\n",
    "    predicted_ids = tf.random.categorical(predicted_logits, num_samples=1)\n",
    "    predicted_ids = tf.squeeze(predicted_ids, axis=-1)\n",
    "\n",
    "    # Convert from token ids to characters\n",
    "    predicted_chars = self.chars_from_ids(predicted_ids)\n",
    "\n",
    "    # Return the characters and model state.\n",
    "    return predicted_chars, states"
   ]
  },
  {
   "cell_type": "code",
   "execution_count": 34,
   "metadata": {},
   "outputs": [],
   "source": [
    "one_step_model = OneStep(model, chars_from_ids, ids_from_chars)"
   ]
  },
  {
   "cell_type": "code",
   "execution_count": 35,
   "metadata": {},
   "outputs": [
    {
     "name": "stdout",
     "output_type": "stream",
     "text": [
      "ah, uh ha, aye Dre\n",
      "  You got me feelin real bulletproof up in this motherfucker\n",
      "  Cuz my windows on some hoes (heah)\n",
      "  You retire me wireds are ten in the hood\n",
      "    Cause a nigga from change, Wance really ran''d fame so was put it this is\n",
      "  I ain''t gotta steal from the corna'' store no mo''s no more\n",
      "   Howa lottly game was a cure\n",
      "  I''m hard for cais to put in workD\n",
      "  and for his real you on some movie shit\n",
      "(50 Cent)\n",
      "My adoued my baby bring they wanna see you criss\n",
      "  Sobe whute are rem gross the duck\n",
      "  Ithal the first Lluh, I aint the niggaz of bombar\n",
      "  Nigga ain''t nuttin change\n",
      "  You move I''ll blow your brains\n",
      "  Yea\n",
      "  Lloyd Banks nigga\n",
      "  Whats up nigga?\n",
      "  Anytime niggas ford the same\n",
      "  thing you shit to you how to run rap cuz Dr. Dre got the recipe (the recipe, recipe)\n",
      "  Yea...Ailift nigga\n",
      "  You fuckin wit him right?\n",
      "  I know you fuckin wit him cause I said you fucking bricks say\n",
      "  hus ya undes resorned to stop frontin''\n",
      "  You go to the dealership\n",
      "  But you n \n",
      "\n",
      "________________________________________________________________________________\n",
      "\n",
      "Run time: 4.123891830444336\n"
     ]
    }
   ],
   "source": [
    "start = time.time()\n",
    "states = None\n",
    "next_char = tf.constant(['a'])\n",
    "result = [next_char]\n",
    "\n",
    "for n in range(1000):\n",
    "  next_char, states = one_step_model.generate_one_step(next_char, states=states)\n",
    "  result.append(next_char)\n",
    "\n",
    "result = tf.strings.join(result)\n",
    "end = time.time()\n",
    "print(result[0].numpy().decode('utf-8'), '\\n\\n' + '_'*80)\n",
    "print('\\nRun time:', end - start)"
   ]
  },
  {
   "cell_type": "code",
   "execution_count": 36,
   "metadata": {},
   "outputs": [
    {
     "name": "stdout",
     "output_type": "stream",
     "text": [
      "WARNING:tensorflow:Skipping full serialization of Keras layer <__main__.OneStep object at 0x14005d6d0>, because it is not built.\n"
     ]
    },
    {
     "name": "stderr",
     "output_type": "stream",
     "text": [
      "2022-03-13 10:09:59.886168: W tensorflow/python/util/util.cc:368] Sets are not currently considered sequences, but this may change in the future, so consider avoiding using them.\n",
      "WARNING:absl:Found untraced functions such as gru_cell_layer_call_fn, gru_cell_layer_call_and_return_conditional_losses, gru_cell_layer_call_fn, gru_cell_layer_call_and_return_conditional_losses, gru_cell_layer_call_and_return_conditional_losses while saving (showing 5 of 5). These functions will not be directly callable after loading.\n"
     ]
    },
    {
     "name": "stdout",
     "output_type": "stream",
     "text": [
      "INFO:tensorflow:Assets written to: 50cent/assets\n"
     ]
    },
    {
     "name": "stderr",
     "output_type": "stream",
     "text": [
      "INFO:tensorflow:Assets written to: 50cent/assets\n"
     ]
    }
   ],
   "source": [
    "tf.saved_model.save(one_step_model, '50cent')"
   ]
  },
  {
   "cell_type": "code",
   "execution_count": null,
   "metadata": {},
   "outputs": [],
   "source": []
  }
 ],
 "metadata": {
  "interpreter": {
   "hash": "25e5be68547a581d8f01812af829697d501d092f95c6ea40be0663306c4e71b8"
  },
  "kernelspec": {
   "display_name": "Python 3.9.7 ('fproj')",
   "language": "python",
   "name": "python3"
  },
  "language_info": {
   "codemirror_mode": {
    "name": "ipython",
    "version": 3
   },
   "file_extension": ".py",
   "mimetype": "text/x-python",
   "name": "python",
   "nbconvert_exporter": "python",
   "pygments_lexer": "ipython3",
   "version": "3.9.10"
  },
  "orig_nbformat": 4
 },
 "nbformat": 4,
 "nbformat_minor": 2
}
